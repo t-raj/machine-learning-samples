{
 "cells": [
  {
   "cell_type": "code",
   "execution_count": 5,
   "metadata": {
    "collapsed": false
   },
   "outputs": [
    {
     "name": "stdout",
     "output_type": "stream",
     "text": [
      "Predicted model accuracy: 0.969966629588\n",
      "10.0\n",
      "0.001\n",
      "{'estimator__tol': 0.001, 'scoring': None, 'refit': True, 'estimator__max_iter': -1, 'n_jobs': 1, 'estimator__gamma': 0.0, 'estimator__cache_size': 200, 'estimator__verbose': False, 'loss_func': None, 'estimator__coef0': 0.0, 'estimator': SVC(C=1.0, cache_size=200, class_weight=None, coef0=0.0, degree=3, gamma=0.0,\n",
      "  kernel='rbf', max_iter=-1, probability=False, random_state=None,\n",
      "  shrinking=True, tol=0.001, verbose=False), 'estimator__shrinking': True, 'estimator__probability': False, 'estimator__class_weight': None, 'estimator__C': 1.0, 'cv': None, 'estimator__random_state': None, 'fit_params': {}, 'score_func': None, 'verbose': 0, 'iid': True, 'param_grid': {'C': array([  1.00000000e-05,   1.00000000e-04,   1.00000000e-03,\n",
      "         1.00000000e-02,   1.00000000e-01,   1.00000000e+00,\n",
      "         1.00000000e+01,   1.00000000e+02,   1.00000000e+03,\n",
      "         1.00000000e+04]), 'gamma': array([  1.00000000e-05,   1.00000000e-04,   1.00000000e-03,\n",
      "         1.00000000e-02,   1.00000000e-01,   1.00000000e+00,\n",
      "         1.00000000e+01,   1.00000000e+02,   1.00000000e+03,\n",
      "         1.00000000e+04])}, 'estimator__kernel': 'rbf', 'estimator__degree': 3, 'pre_dispatch': '2*n_jobs'}\n",
      "[ 0.93770492  0.99331104  0.90508475]\n"
     ]
    }
   ],
   "source": [
    "import numpy as np\n",
    "from sklearn import neighbors, datasets, metrics, svm, grid_search, cross_validation\n",
    "from sklearn.grid_search import GridSearchCV\n",
    "\n",
    "c = 10.0**np.arange(-5,5)\n",
    "g = 10.0**np.arange(-5,5)\n",
    "#c = np.arange(10)+2\n",
    " \n",
    "# Load digits data from 'datasets module'\n",
    "digits = datasets.load_digits()\n",
    "svr = svm.SVC(kernel='rbf')\n",
    "parameters = {'C':c, 'gamma': g}\n",
    "\n",
    "n_samples = np.round(len(digits.data)/2)\n",
    "\n",
    "#   Get data-records and record-labels in arrays X and y\n",
    "X_training=digits.data[:n_samples]\n",
    "y_training=digits.target[:n_samples]\n",
    "\n",
    "#   Get data-records and record-labels in arrays X and y\n",
    "X_testing=digits.data[n_samples:]\n",
    "y_testing=digits.target[n_samples:]\n",
    "\n",
    "#clf = grid_search.GridSearchCV(knearest, parameters, cv=10)\n",
    "clf = grid_search.GridSearchCV(svr, parameters)\n",
    "\n",
    "#clf = svm.SVC(kernel='poly', gamma=1) \n",
    "clf.fit(X_training, y_training)\n",
    "\n",
    "# Make class predictions for all observations in X_testing\n",
    "Z = clf.predict(X_testing)\n",
    "\n",
    "# Compare predicted class labels with actual class labels\n",
    "accuracy=clf.score(X_testing,y_testing)\n",
    "print (\"Predicted model accuracy: \"+ str(accuracy))\n",
    "print (clf.best_params_['C'])\n",
    "print (clf.best_params_['gamma'])\n",
    "print (clf.get_params())\n",
    "print (cross_validation.cross_val_score(clf, X_testing, y_testing))\n",
    "\n",
    "\n"
   ]
  },
  {
   "cell_type": "code",
   "execution_count": null,
   "metadata": {
    "collapsed": true
   },
   "outputs": [],
   "source": []
  }
 ],
 "metadata": {
  "kernelspec": {
   "display_name": "Python 3",
   "language": "python",
   "name": "python3"
  },
  "language_info": {
   "codemirror_mode": {
    "name": "ipython",
    "version": 3
   },
   "file_extension": ".py",
   "mimetype": "text/x-python",
   "name": "python",
   "nbconvert_exporter": "python",
   "pygments_lexer": "ipython3",
   "version": "3.4.3"
  }
 },
 "nbformat": 4,
 "nbformat_minor": 0
}
