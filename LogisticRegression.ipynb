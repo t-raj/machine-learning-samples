{
 "cells": [
  {
   "cell_type": "code",
   "execution_count": 1,
   "metadata": {
    "collapsed": false
   },
   "outputs": [
    {
     "name": "stdout",
     "output_type": "stream",
     "text": [
      "Predicted model accuracy: 0.929922135706\n",
      "0.1\n",
      "{'cv': None, 'estimator__C': 1.0, 'estimator__random_state': None, 'pre_dispatch': '2*n_jobs', 'estimator__class_weight': None, 'estimator__intercept_scaling': 1, 'loss_func': None, 'verbose': 0, 'n_jobs': 1, 'refit': True, 'score_func': None, 'iid': True, 'estimator__penalty': 'l1', 'estimator': LogisticRegression(C=1.0, class_weight=None, dual=False, fit_intercept=True,\n",
      "          intercept_scaling=1, penalty='l1', random_state=None, tol=0.0001), 'estimator__fit_intercept': True, 'scoring': None, 'estimator__tol': 0.0001, 'param_grid': {'C': array([  1.00000000e-05,   1.00000000e-04,   1.00000000e-03,\n",
      "         1.00000000e-02,   1.00000000e-01,   1.00000000e+00,\n",
      "         1.00000000e+01,   1.00000000e+02,   1.00000000e+03,\n",
      "         1.00000000e+04])}, 'estimator__dual': False, 'fit_params': {}}\n"
     ]
    }
   ],
   "source": [
    "import numpy as np\n",
    "from sklearn import datasets, metrics, grid_search, svm\n",
    "from sklearn.linear_model import LogisticRegression\n",
    "classifier = svm.SVC(gamma=0.001)\n",
    "from sklearn.grid_search import GridSearchCV\n",
    "\n",
    "\n",
    "\n",
    " \n",
    "# Load digits data from 'datasets module'\n",
    "digits = datasets.load_digits()\n",
    "c = 10.0**np.arange(-5,5)\n",
    "n_samples = np.round(len(digits.data)/2)\n",
    "parameters = {'C':c,}\n",
    "\n",
    "#   Get data-records and record-labels in arrays X and y\n",
    "X_training=digits.data[:n_samples]\n",
    "y_training=digits.target[:n_samples]\n",
    "\n",
    "#   Get data-records and record-labels in arrays X and y\n",
    "X_testing=digits.data[n_samples:]\n",
    "y_testing=digits.target[n_samples:]\n",
    "\n",
    "svr = LogisticRegression(penalty='l1')\n",
    "\n",
    "# Create an instance of KNeighborsClassifier and then fit training data\n",
    "clf = grid_search.GridSearchCV(svr, parameters)\n",
    "\n",
    "#clf = LogisticRegression(C=1.0, dual=False, fit_intercept=True,intercept_scaling=1, penalty='l2', tol=0.0001)\n",
    "clf.fit(X_training, y_training)\n",
    "\n",
    "# Make class predictions for all observations in X_testing\n",
    "Z = clf.predict(X_testing)\n",
    "\n",
    "# Compare predicted class labels with actual class labels\n",
    "accuracy=clf.score(X_testing,y_testing)\n",
    "print (\"Predicted model accuracy: \"+ str(accuracy))\n",
    "print (clf.best_params_['C'])\n",
    "print (clf.get_params())\n"
   ]
  },
  {
   "cell_type": "code",
   "execution_count": null,
   "metadata": {
    "collapsed": true
   },
   "outputs": [],
   "source": []
  }
 ],
 "metadata": {
  "kernelspec": {
   "display_name": "Python 3",
   "language": "python",
   "name": "python3"
  },
  "language_info": {
   "codemirror_mode": {
    "name": "ipython",
    "version": 3
   },
   "file_extension": ".py",
   "mimetype": "text/x-python",
   "name": "python",
   "nbconvert_exporter": "python",
   "pygments_lexer": "ipython3",
   "version": "3.4.3"
  }
 },
 "nbformat": 4,
 "nbformat_minor": 0
}
