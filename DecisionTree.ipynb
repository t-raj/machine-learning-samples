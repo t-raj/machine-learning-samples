{
 "cells": [
  {
   "cell_type": "code",
   "execution_count": 6,
   "metadata": {
    "collapsed": false
   },
   "outputs": [
    {
     "name": "stdout",
     "output_type": "stream",
     "text": [
      "Predicted model accuracy: 0.747497219132\n",
      "6\n",
      "{'n_jobs': 1, 'loss_func': None, 'estimator__min_samples_split': 2, 'verbose': 0, 'refit': True, 'estimator__criterion': 'gini', 'scoring': None, 'estimator__compute_importances': None, 'estimator__max_depth': None, 'param_grid': {'min_samples_split': array([ 1,  6, 11, 16, 21, 26, 31, 36, 41, 46, 51, 56, 61, 66, 71, 76, 81,\n",
      "       86, 91, 96])}, 'estimator__splitter': 'best', 'cv': None, 'estimator__max_leaf_nodes': None, 'estimator__max_features': None, 'estimator__random_state': None, 'estimator__min_density': None, 'fit_params': {}, 'score_func': None, 'pre_dispatch': '2*n_jobs', 'estimator': DecisionTreeClassifier(compute_importances=None, criterion='gini',\n",
      "            max_depth=None, max_features=None, max_leaf_nodes=None,\n",
      "            min_density=None, min_samples_leaf=1, min_samples_split=2,\n",
      "            random_state=None, splitter='best'), 'estimator__min_samples_leaf': 1, 'iid': True}\n"
     ]
    }
   ],
   "source": [
    "import numpy as np\n",
    "from sklearn import tree, datasets, metrics, grid_search, svm\n",
    "classifier = svm.SVC(gamma=0.001)\n",
    "from sklearn.grid_search import GridSearchCV\n",
    "\n",
    "\n",
    " \n",
    "# Load digits data from 'datasets module'\n",
    "digits = datasets.load_digits()\n",
    "c = np.arange(1,100,5)\n",
    "n_samples = np.round(len(digits.data)/2)\n",
    "parameters = {'min_samples_split': c}\n",
    "\n",
    "#   Get data-records and record-labels in arrays X and y\n",
    "X_training=digits.data[:n_samples]\n",
    "y_training=digits.target[:n_samples]\n",
    "\n",
    "#   Get data-records and record-labels in arrays X and y\n",
    "X_testing=digits.data[n_samples:]\n",
    "y_testing=digits.target[n_samples:]\n",
    "\n",
    "svr = tree.DecisionTreeClassifier()\n",
    "\n",
    "# Create an instance of KNeighborsClassifier and then fit training data\n",
    "clf = grid_search.GridSearchCV(svr, parameters)\n",
    "# Create an instance of KNeighborsClassifier and then fit training data\n",
    "\n",
    "#clf = tree.DecisionTreeClassifier(min_samples_split=20)\n",
    "clf.fit(X_training, y_training)\n",
    "\n",
    "# Make class predictions for all observations in X_testing\n",
    "Z = clf.predict(X_testing)\n",
    "\n",
    "# Compare predicted class labels with actual class labels\n",
    "accuracy=clf.score(X_testing,y_testing)\n",
    "print (\"Predicted model accuracy: \"+ str(accuracy))\n",
    "print (clf.best_params_['min_samples_split'])\n",
    "print (clf.get_params())\n"
   ]
  },
  {
   "cell_type": "code",
   "execution_count": null,
   "metadata": {
    "collapsed": true
   },
   "outputs": [],
   "source": []
  }
 ],
 "metadata": {
  "kernelspec": {
   "display_name": "Python 3",
   "language": "python",
   "name": "python3"
  },
  "language_info": {
   "codemirror_mode": {
    "name": "ipython",
    "version": 3
   },
   "file_extension": ".py",
   "mimetype": "text/x-python",
   "name": "python",
   "nbconvert_exporter": "python",
   "pygments_lexer": "ipython3",
   "version": "3.4.3"
  }
 },
 "nbformat": 4,
 "nbformat_minor": 0
}
